{
  "nbformat": 4,
  "nbformat_minor": 0,
  "metadata": {
    "colab": {
      "provenance": []
    },
    "kernelspec": {
      "name": "python3",
      "display_name": "Python 3"
    },
    "language_info": {
      "name": "python"
    }
  },
  "cells": [
    {
      "cell_type": "code",
      "execution_count": 1,
      "metadata": {
        "id": "8_Lao_6jQPj8"
      },
      "outputs": [],
      "source": [
        "import pandas as pd\n",
        "import numpy as np\n",
        "import re\n",
        "import random\n",
        "random.seed(42)\n",
        "import seaborn as sns\n",
        "import matplotlib.pyplot as plt"
      ]
    },
    {
      "cell_type": "code",
      "source": [
        "df = pd.read_csv(\"/content/mohler_dataset_edited.csv\")\n",
        "df['index'] = [x for x in range(df.shape[0])]\n",
        "df"
      ],
      "metadata": {
        "colab": {
          "base_uri": "https://localhost:8080/",
          "height": 641
        },
        "id": "RELqwNsUQ56t",
        "outputId": "80b48c47-13f4-447c-f726-db4747bf8c9c"
      },
      "execution_count": 2,
      "outputs": [
        {
          "output_type": "execute_result",
          "data": {
            "text/plain": [
              "         id                                           question  \\\n",
              "0      1.10  What is the role of a prototype program in pro...   \n",
              "1      1.10  What is the role of a prototype program in pro...   \n",
              "2      1.10  What is the role of a prototype program in pro...   \n",
              "3      1.10  What is the role of a prototype program in pro...   \n",
              "4      1.10  What is the role of a prototype program in pro...   \n",
              "...     ...                                                ...   \n",
              "2268  12.11  How many steps does it take to search a node i...   \n",
              "2269  12.11  How many steps does it take to search a node i...   \n",
              "2270  12.11  How many steps does it take to search a node i...   \n",
              "2271  12.11  How many steps does it take to search a node i...   \n",
              "2272  12.11  How many steps does it take to search a node i...   \n",
              "\n",
              "                                         desired_answer  \\\n",
              "0     To simulate the behaviour of portions of the d...   \n",
              "1     To simulate the behaviour of portions of the d...   \n",
              "2     To simulate the behaviour of portions of the d...   \n",
              "3     To simulate the behaviour of portions of the d...   \n",
              "4     To simulate the behaviour of portions of the d...   \n",
              "...                                                 ...   \n",
              "2268                            The height of the tree.   \n",
              "2269                            The height of the tree.   \n",
              "2270                            The height of the tree.   \n",
              "2271                            The height of the tree.   \n",
              "2272                            The height of the tree.   \n",
              "\n",
              "                                         student_answer  score_me  \\\n",
              "0     High risk problems are address in the prototyp...       4.0   \n",
              "1     To simulate portions of the desired final prod...       5.0   \n",
              "2     A prototype program simulates the behaviors of...       5.0   \n",
              "3     Defined in the Specification phase a prototype...       5.0   \n",
              "4     It is used to let the users have a first idea ...       3.0   \n",
              "...                                                 ...       ...   \n",
              "2268                                              log n       4.5   \n",
              "2269                                     ( n(n-1) ) / 2       0.0   \n",
              "2270                                               2n-1       0.0   \n",
              "2271  it takes at most h steps, where h is the heigh...       5.0   \n",
              "2272  it depends on the install search tree then fro...       0.0   \n",
              "\n",
              "      score_other  score_avg  index  \n",
              "0            3.00      3.500      0  \n",
              "1            5.00      5.000      1  \n",
              "2            3.00      4.000      2  \n",
              "3            5.00      5.000      3  \n",
              "4            3.00      3.000      4  \n",
              "...           ...        ...    ...  \n",
              "2268         5.00      4.750   2268  \n",
              "2269         3.00      1.500   2269  \n",
              "2270         4.75      2.375   2270  \n",
              "2271         5.00      5.000   2271  \n",
              "2272         3.00      1.500   2272  \n",
              "\n",
              "[2273 rows x 8 columns]"
            ],
            "text/html": [
              "\n",
              "  <div id=\"df-e03e2928-84a3-4d20-8483-6e4d94d622d6\">\n",
              "    <div class=\"colab-df-container\">\n",
              "      <div>\n",
              "<style scoped>\n",
              "    .dataframe tbody tr th:only-of-type {\n",
              "        vertical-align: middle;\n",
              "    }\n",
              "\n",
              "    .dataframe tbody tr th {\n",
              "        vertical-align: top;\n",
              "    }\n",
              "\n",
              "    .dataframe thead th {\n",
              "        text-align: right;\n",
              "    }\n",
              "</style>\n",
              "<table border=\"1\" class=\"dataframe\">\n",
              "  <thead>\n",
              "    <tr style=\"text-align: right;\">\n",
              "      <th></th>\n",
              "      <th>id</th>\n",
              "      <th>question</th>\n",
              "      <th>desired_answer</th>\n",
              "      <th>student_answer</th>\n",
              "      <th>score_me</th>\n",
              "      <th>score_other</th>\n",
              "      <th>score_avg</th>\n",
              "      <th>index</th>\n",
              "    </tr>\n",
              "  </thead>\n",
              "  <tbody>\n",
              "    <tr>\n",
              "      <th>0</th>\n",
              "      <td>1.10</td>\n",
              "      <td>What is the role of a prototype program in pro...</td>\n",
              "      <td>To simulate the behaviour of portions of the d...</td>\n",
              "      <td>High risk problems are address in the prototyp...</td>\n",
              "      <td>4.0</td>\n",
              "      <td>3.00</td>\n",
              "      <td>3.500</td>\n",
              "      <td>0</td>\n",
              "    </tr>\n",
              "    <tr>\n",
              "      <th>1</th>\n",
              "      <td>1.10</td>\n",
              "      <td>What is the role of a prototype program in pro...</td>\n",
              "      <td>To simulate the behaviour of portions of the d...</td>\n",
              "      <td>To simulate portions of the desired final prod...</td>\n",
              "      <td>5.0</td>\n",
              "      <td>5.00</td>\n",
              "      <td>5.000</td>\n",
              "      <td>1</td>\n",
              "    </tr>\n",
              "    <tr>\n",
              "      <th>2</th>\n",
              "      <td>1.10</td>\n",
              "      <td>What is the role of a prototype program in pro...</td>\n",
              "      <td>To simulate the behaviour of portions of the d...</td>\n",
              "      <td>A prototype program simulates the behaviors of...</td>\n",
              "      <td>5.0</td>\n",
              "      <td>3.00</td>\n",
              "      <td>4.000</td>\n",
              "      <td>2</td>\n",
              "    </tr>\n",
              "    <tr>\n",
              "      <th>3</th>\n",
              "      <td>1.10</td>\n",
              "      <td>What is the role of a prototype program in pro...</td>\n",
              "      <td>To simulate the behaviour of portions of the d...</td>\n",
              "      <td>Defined in the Specification phase a prototype...</td>\n",
              "      <td>5.0</td>\n",
              "      <td>5.00</td>\n",
              "      <td>5.000</td>\n",
              "      <td>3</td>\n",
              "    </tr>\n",
              "    <tr>\n",
              "      <th>4</th>\n",
              "      <td>1.10</td>\n",
              "      <td>What is the role of a prototype program in pro...</td>\n",
              "      <td>To simulate the behaviour of portions of the d...</td>\n",
              "      <td>It is used to let the users have a first idea ...</td>\n",
              "      <td>3.0</td>\n",
              "      <td>3.00</td>\n",
              "      <td>3.000</td>\n",
              "      <td>4</td>\n",
              "    </tr>\n",
              "    <tr>\n",
              "      <th>...</th>\n",
              "      <td>...</td>\n",
              "      <td>...</td>\n",
              "      <td>...</td>\n",
              "      <td>...</td>\n",
              "      <td>...</td>\n",
              "      <td>...</td>\n",
              "      <td>...</td>\n",
              "      <td>...</td>\n",
              "    </tr>\n",
              "    <tr>\n",
              "      <th>2268</th>\n",
              "      <td>12.11</td>\n",
              "      <td>How many steps does it take to search a node i...</td>\n",
              "      <td>The height of the tree.</td>\n",
              "      <td>log n</td>\n",
              "      <td>4.5</td>\n",
              "      <td>5.00</td>\n",
              "      <td>4.750</td>\n",
              "      <td>2268</td>\n",
              "    </tr>\n",
              "    <tr>\n",
              "      <th>2269</th>\n",
              "      <td>12.11</td>\n",
              "      <td>How many steps does it take to search a node i...</td>\n",
              "      <td>The height of the tree.</td>\n",
              "      <td>( n(n-1) ) / 2</td>\n",
              "      <td>0.0</td>\n",
              "      <td>3.00</td>\n",
              "      <td>1.500</td>\n",
              "      <td>2269</td>\n",
              "    </tr>\n",
              "    <tr>\n",
              "      <th>2270</th>\n",
              "      <td>12.11</td>\n",
              "      <td>How many steps does it take to search a node i...</td>\n",
              "      <td>The height of the tree.</td>\n",
              "      <td>2n-1</td>\n",
              "      <td>0.0</td>\n",
              "      <td>4.75</td>\n",
              "      <td>2.375</td>\n",
              "      <td>2270</td>\n",
              "    </tr>\n",
              "    <tr>\n",
              "      <th>2271</th>\n",
              "      <td>12.11</td>\n",
              "      <td>How many steps does it take to search a node i...</td>\n",
              "      <td>The height of the tree.</td>\n",
              "      <td>it takes at most h steps, where h is the heigh...</td>\n",
              "      <td>5.0</td>\n",
              "      <td>5.00</td>\n",
              "      <td>5.000</td>\n",
              "      <td>2271</td>\n",
              "    </tr>\n",
              "    <tr>\n",
              "      <th>2272</th>\n",
              "      <td>12.11</td>\n",
              "      <td>How many steps does it take to search a node i...</td>\n",
              "      <td>The height of the tree.</td>\n",
              "      <td>it depends on the install search tree then fro...</td>\n",
              "      <td>0.0</td>\n",
              "      <td>3.00</td>\n",
              "      <td>1.500</td>\n",
              "      <td>2272</td>\n",
              "    </tr>\n",
              "  </tbody>\n",
              "</table>\n",
              "<p>2273 rows × 8 columns</p>\n",
              "</div>\n",
              "      <button class=\"colab-df-convert\" onclick=\"convertToInteractive('df-e03e2928-84a3-4d20-8483-6e4d94d622d6')\"\n",
              "              title=\"Convert this dataframe to an interactive table.\"\n",
              "              style=\"display:none;\">\n",
              "        \n",
              "  <svg xmlns=\"http://www.w3.org/2000/svg\" height=\"24px\"viewBox=\"0 0 24 24\"\n",
              "       width=\"24px\">\n",
              "    <path d=\"M0 0h24v24H0V0z\" fill=\"none\"/>\n",
              "    <path d=\"M18.56 5.44l.94 2.06.94-2.06 2.06-.94-2.06-.94-.94-2.06-.94 2.06-2.06.94zm-11 1L8.5 8.5l.94-2.06 2.06-.94-2.06-.94L8.5 2.5l-.94 2.06-2.06.94zm10 10l.94 2.06.94-2.06 2.06-.94-2.06-.94-.94-2.06-.94 2.06-2.06.94z\"/><path d=\"M17.41 7.96l-1.37-1.37c-.4-.4-.92-.59-1.43-.59-.52 0-1.04.2-1.43.59L10.3 9.45l-7.72 7.72c-.78.78-.78 2.05 0 2.83L4 21.41c.39.39.9.59 1.41.59.51 0 1.02-.2 1.41-.59l7.78-7.78 2.81-2.81c.8-.78.8-2.07 0-2.86zM5.41 20L4 18.59l7.72-7.72 1.47 1.35L5.41 20z\"/>\n",
              "  </svg>\n",
              "      </button>\n",
              "      \n",
              "  <style>\n",
              "    .colab-df-container {\n",
              "      display:flex;\n",
              "      flex-wrap:wrap;\n",
              "      gap: 12px;\n",
              "    }\n",
              "\n",
              "    .colab-df-convert {\n",
              "      background-color: #E8F0FE;\n",
              "      border: none;\n",
              "      border-radius: 50%;\n",
              "      cursor: pointer;\n",
              "      display: none;\n",
              "      fill: #1967D2;\n",
              "      height: 32px;\n",
              "      padding: 0 0 0 0;\n",
              "      width: 32px;\n",
              "    }\n",
              "\n",
              "    .colab-df-convert:hover {\n",
              "      background-color: #E2EBFA;\n",
              "      box-shadow: 0px 1px 2px rgba(60, 64, 67, 0.3), 0px 1px 3px 1px rgba(60, 64, 67, 0.15);\n",
              "      fill: #174EA6;\n",
              "    }\n",
              "\n",
              "    [theme=dark] .colab-df-convert {\n",
              "      background-color: #3B4455;\n",
              "      fill: #D2E3FC;\n",
              "    }\n",
              "\n",
              "    [theme=dark] .colab-df-convert:hover {\n",
              "      background-color: #434B5C;\n",
              "      box-shadow: 0px 1px 3px 1px rgba(0, 0, 0, 0.15);\n",
              "      filter: drop-shadow(0px 1px 2px rgba(0, 0, 0, 0.3));\n",
              "      fill: #FFFFFF;\n",
              "    }\n",
              "  </style>\n",
              "\n",
              "      <script>\n",
              "        const buttonEl =\n",
              "          document.querySelector('#df-e03e2928-84a3-4d20-8483-6e4d94d622d6 button.colab-df-convert');\n",
              "        buttonEl.style.display =\n",
              "          google.colab.kernel.accessAllowed ? 'block' : 'none';\n",
              "\n",
              "        async function convertToInteractive(key) {\n",
              "          const element = document.querySelector('#df-e03e2928-84a3-4d20-8483-6e4d94d622d6');\n",
              "          const dataTable =\n",
              "            await google.colab.kernel.invokeFunction('convertToInteractive',\n",
              "                                                     [key], {});\n",
              "          if (!dataTable) return;\n",
              "\n",
              "          const docLinkHtml = 'Like what you see? Visit the ' +\n",
              "            '<a target=\"_blank\" href=https://colab.research.google.com/notebooks/data_table.ipynb>data table notebook</a>'\n",
              "            + ' to learn more about interactive tables.';\n",
              "          element.innerHTML = '';\n",
              "          dataTable['output_type'] = 'display_data';\n",
              "          await google.colab.output.renderOutput(dataTable, element);\n",
              "          const docLink = document.createElement('div');\n",
              "          docLink.innerHTML = docLinkHtml;\n",
              "          element.appendChild(docLink);\n",
              "        }\n",
              "      </script>\n",
              "    </div>\n",
              "  </div>\n",
              "  "
            ]
          },
          "metadata": {},
          "execution_count": 2
        }
      ]
    },
    {
      "cell_type": "code",
      "source": [
        "df['id'].value_counts()"
      ],
      "metadata": {
        "colab": {
          "base_uri": "https://localhost:8080/"
        },
        "id": "TNR1K68uxKFC",
        "outputId": "e21cbe26-e1ef-4b0d-f178-8ae4ac57a4d9"
      },
      "execution_count": 3,
      "outputs": [
        {
          "output_type": "execute_result",
          "data": {
            "text/plain": [
              "3.7     31\n",
              "3.6     31\n",
              "3.5     31\n",
              "3.4     31\n",
              "3.3     31\n",
              "        ..\n",
              "10.5    24\n",
              "10.4    24\n",
              "10.3    24\n",
              "10.2    24\n",
              "10.1    24\n",
              "Name: id, Length: 81, dtype: int64"
            ]
          },
          "metadata": {},
          "execution_count": 3
        }
      ]
    },
    {
      "cell_type": "code",
      "source": [
        "non_natives_ids = random.choices(df['index'], k =round(df.shape[0]*0.1)) # 10% non natives\n",
        "non_natives_ids\n",
        "df[\"is_foreign\"] = df['index'].isin(non_natives_ids).astype(int)\n",
        "df[\"is_foreign\"].value_counts()"
      ],
      "metadata": {
        "id": "XkZdOoC-Q58-",
        "colab": {
          "base_uri": "https://localhost:8080/"
        },
        "outputId": "05319b70-fb34-4c38-8bf6-19e8838744f7"
      },
      "execution_count": 4,
      "outputs": [
        {
          "output_type": "execute_result",
          "data": {
            "text/plain": [
              "0    2059\n",
              "1     214\n",
              "Name: is_foreign, dtype: int64"
            ]
          },
          "metadata": {},
          "execution_count": 4
        }
      ]
    },
    {
      "cell_type": "code",
      "source": [
        "for val in df['id'].unique():\n",
        "    idx = df.index[df['id'] == val]\n",
        "    chosen_idx = np.random.choice(idx, size=min(4, len(idx)), replace=False)\n",
        "    df.loc[chosen_idx, 'is_foreign'] = 1"
      ],
      "metadata": {
        "id": "SGx0edcD7ls5"
      },
      "execution_count": 5,
      "outputs": []
    },
    {
      "cell_type": "code",
      "source": [
        "df['is_foreign'].fillna(0, inplace=True)\n",
        "df['is_foreign'].value_counts()\n"
      ],
      "metadata": {
        "colab": {
          "base_uri": "https://localhost:8080/"
        },
        "id": "QxHiL2OD92NT",
        "outputId": "0481dcd6-b137-4651-a904-f9f1472b6e97"
      },
      "execution_count": 6,
      "outputs": [
        {
          "output_type": "execute_result",
          "data": {
            "text/plain": [
              "0    1767\n",
              "1     506\n",
              "Name: is_foreign, dtype: int64"
            ]
          },
          "metadata": {},
          "execution_count": 6
        }
      ]
    },
    {
      "cell_type": "code",
      "source": [
        "df['is_foreign'] = df['is_foreign'].astype(int)"
      ],
      "metadata": {
        "id": "seEoLf1D-a76"
      },
      "execution_count": 7,
      "outputs": []
    },
    {
      "cell_type": "code",
      "source": [
        "df['is_foreign'].value_counts()"
      ],
      "metadata": {
        "colab": {
          "base_uri": "https://localhost:8080/"
        },
        "id": "iJ29oaX--c7w",
        "outputId": "ce4fed21-d8f1-462a-eebf-0a4bbdf7c08c"
      },
      "execution_count": 8,
      "outputs": [
        {
          "output_type": "execute_result",
          "data": {
            "text/plain": [
              "0    1767\n",
              "1     506\n",
              "Name: is_foreign, dtype: int64"
            ]
          },
          "metadata": {},
          "execution_count": 8
        }
      ]
    },
    {
      "cell_type": "code",
      "source": [
        "# df.query('is_foreign == 1')[\"student_answer\"].apply(lambda x :re.sub(r\"tion\", \"shen\", x))\n",
        "def make_text_worse(x):\n",
        "  if random.random() < 0.4:\n",
        "    x = re.sub(r\"tion\", \"shen\", x)\n",
        "  if random.random() < 0.6:\n",
        "    x = re.sub(r\"ss\", \"s\", x)\n",
        "  if random.random() < 0.3:\n",
        "    x = re.sub(r\"dd\", \"d\", x)\n",
        "  if random.random() < 0.5:\n",
        "    x = re.sub(r\"in\", \"en\", x)\n",
        "    x = re.sub(r\"le\", \"l\", x)\n",
        "  if random.random() < 0.6:\n",
        "    x = re.sub(r\"y\", \"i\", x)\n",
        "  if random.random() < 0.3:\n",
        "    x = re.sub(r\"th\", \"z\", x)\n",
        "  if random.random() < 0.6:\n",
        "    x = re.sub(r\"ts\", \"t\", x)\n",
        "  if random.random() < 0.4:\n",
        "    x = re.sub(r\"re\", \"ri\", x)\n",
        "  if random.random() < 0.3:\n",
        "    x = re.sub(r\"eigh\", \"ei\", x)\n",
        "  if random.random() < 0.1:\n",
        "    x = re.sub(r\"is\", \"\", x)\n",
        "  if random.random() < 0.3:\n",
        "    x = re.sub(r\"es\", \"s\", x)\n",
        "  if random.random() < 0.4:\n",
        "    x = re.sub(r\"is the\", \"the is\", x)\n",
        "  if random.random() < 0.4:\n",
        "    x = re.sub(r\"is an\", \"\", x)\n",
        "  if random.random() < 0.6:\n",
        "    x = re.sub(r\"It is\", \"Is it\", x)\n",
        "  if random.random() < 0.6:\n",
        "    x = re.sub(r\"it is\", \"is it\", x)\n",
        "  return x\n",
        "\n",
        "\n",
        "foreigners = df[\"is_foreign\"] == 1\n",
        "natives = df[\"is_foreign\"] == 0\n",
        "\n",
        "df.loc[foreigners, 'student_answer'] = df.loc[foreigners, 'student_answer'].apply(lambda x : make_text_worse(x))\n",
        "\n",
        "df.query('is_foreign == 1')[\"student_answer\"]\n"
      ],
      "metadata": {
        "colab": {
          "base_uri": "https://localhost:8080/"
        },
        "id": "8gFnYfmqQ6AC",
        "outputId": "beb05aa0-81dd-4d48-ea6a-1ddbf1fa7a56"
      },
      "execution_count": 13,
      "outputs": [
        {
          "output_type": "execute_result",
          "data": {
            "text/plain": [
              "1       To simulate porshens of the dsirid fenal produ...\n",
              "5       To find problem and errors in a program befori...\n",
              "14      A prototipe program provids a basic groundwork...\n",
              "20      it simulat ze behavior of portions of ze dsire...\n",
              "25      The rol of a prototipe program  to help spot k...\n",
              "                              ...                        \n",
              "2261                                               log(n)\n",
              "2262    worst case scenario = the number of lvels of t...\n",
              "2264    log(n)    where n equals the total number of n...\n",
              "2267    three steps visit the root node, then go to ri...\n",
              "2271    it takes at most h steps, wheri h is ze heit o...\n",
              "Name: student_answer, Length: 506, dtype: object"
            ]
          },
          "metadata": {},
          "execution_count": 13
        }
      ]
    },
    {
      "cell_type": "code",
      "source": [
        "df[\"math_grade\"] = [0]*df.shape[0]\n",
        "\n",
        "df['math_grade'][df.is_foreign == 1] = df['id'][df.is_foreign == 1].apply(lambda x: round(min(np.random.normal(90, 5), 100)))\n",
        "df['math_grade'][df.is_foreign == 0] = df['id'][df.is_foreign == 0].apply(lambda x: round(min(np.random.normal(80, 10), 100)))\n",
        "\n",
        "df"
      ],
      "metadata": {
        "colab": {
          "base_uri": "https://localhost:8080/",
          "height": 1000
        },
        "id": "vq7DWr4Xc3hD",
        "outputId": "32d28b35-08ed-4a76-beab-19dc0c43dc13"
      },
      "execution_count": 10,
      "outputs": [
        {
          "output_type": "stream",
          "name": "stderr",
          "text": [
            "<ipython-input-10-41dda419b215>:3: SettingWithCopyWarning: \n",
            "A value is trying to be set on a copy of a slice from a DataFrame\n",
            "\n",
            "See the caveats in the documentation: https://pandas.pydata.org/pandas-docs/stable/user_guide/indexing.html#returning-a-view-versus-a-copy\n",
            "  df['math_grade'][df.is_foreign == 1] = df['id'][df.is_foreign == 1].apply(lambda x: round(min(np.random.normal(90, 5), 100)))\n",
            "<ipython-input-10-41dda419b215>:4: SettingWithCopyWarning: \n",
            "A value is trying to be set on a copy of a slice from a DataFrame\n",
            "\n",
            "See the caveats in the documentation: https://pandas.pydata.org/pandas-docs/stable/user_guide/indexing.html#returning-a-view-versus-a-copy\n",
            "  df['math_grade'][df.is_foreign == 0] = df['id'][df.is_foreign == 0].apply(lambda x: round(min(np.random.normal(80, 10), 100)))\n"
          ]
        },
        {
          "output_type": "execute_result",
          "data": {
            "text/plain": [
              "         id                                           question  \\\n",
              "0      1.10  What is the role of a prototype program in pro...   \n",
              "1      1.10  What is the role of a prototype program in pro...   \n",
              "2      1.10  What is the role of a prototype program in pro...   \n",
              "3      1.10  What is the role of a prototype program in pro...   \n",
              "4      1.10  What is the role of a prototype program in pro...   \n",
              "...     ...                                                ...   \n",
              "2268  12.11  How many steps does it take to search a node i...   \n",
              "2269  12.11  How many steps does it take to search a node i...   \n",
              "2270  12.11  How many steps does it take to search a node i...   \n",
              "2271  12.11  How many steps does it take to search a node i...   \n",
              "2272  12.11  How many steps does it take to search a node i...   \n",
              "\n",
              "                                         desired_answer  \\\n",
              "0     To simulate the behaviour of portions of the d...   \n",
              "1     To simulate the behaviour of portions of the d...   \n",
              "2     To simulate the behaviour of portions of the d...   \n",
              "3     To simulate the behaviour of portions of the d...   \n",
              "4     To simulate the behaviour of portions of the d...   \n",
              "...                                                 ...   \n",
              "2268                            The height of the tree.   \n",
              "2269                            The height of the tree.   \n",
              "2270                            The height of the tree.   \n",
              "2271                            The height of the tree.   \n",
              "2272                            The height of the tree.   \n",
              "\n",
              "                                         student_answer  score_me  \\\n",
              "0     High risk problems are address in the prototyp...       4.0   \n",
              "1     To simulate portions of the dsirid fenal produ...       5.0   \n",
              "2     A prototype program simulates the behaviors of...       5.0   \n",
              "3     Defined in the Specification phase a prototype...       5.0   \n",
              "4     It is used to let the users have a first idea ...       3.0   \n",
              "...                                                 ...       ...   \n",
              "2268                                              log n       4.5   \n",
              "2269                                     ( n(n-1) ) / 2       0.0   \n",
              "2270                                               2n-1       0.0   \n",
              "2271  it takes at most h steps, wheri h is the heigh...       5.0   \n",
              "2272  it depends on the install search tree then fro...       0.0   \n",
              "\n",
              "      score_other  score_avg  index  is_foreign  math_grade  \n",
              "0            3.00      3.500      0           0          88  \n",
              "1            5.00      5.000      1           1          88  \n",
              "2            3.00      4.000      2           0          82  \n",
              "3            5.00      5.000      3           0          71  \n",
              "4            3.00      3.000      4           0          80  \n",
              "...           ...        ...    ...         ...         ...  \n",
              "2268         5.00      4.750   2268           0          81  \n",
              "2269         3.00      1.500   2269           0          66  \n",
              "2270         4.75      2.375   2270           0          80  \n",
              "2271         5.00      5.000   2271           1          93  \n",
              "2272         3.00      1.500   2272           0          90  \n",
              "\n",
              "[2273 rows x 10 columns]"
            ],
            "text/html": [
              "\n",
              "  <div id=\"df-38c7f0fa-bc79-4e3a-ba62-422b32272a5c\">\n",
              "    <div class=\"colab-df-container\">\n",
              "      <div>\n",
              "<style scoped>\n",
              "    .dataframe tbody tr th:only-of-type {\n",
              "        vertical-align: middle;\n",
              "    }\n",
              "\n",
              "    .dataframe tbody tr th {\n",
              "        vertical-align: top;\n",
              "    }\n",
              "\n",
              "    .dataframe thead th {\n",
              "        text-align: right;\n",
              "    }\n",
              "</style>\n",
              "<table border=\"1\" class=\"dataframe\">\n",
              "  <thead>\n",
              "    <tr style=\"text-align: right;\">\n",
              "      <th></th>\n",
              "      <th>id</th>\n",
              "      <th>question</th>\n",
              "      <th>desired_answer</th>\n",
              "      <th>student_answer</th>\n",
              "      <th>score_me</th>\n",
              "      <th>score_other</th>\n",
              "      <th>score_avg</th>\n",
              "      <th>index</th>\n",
              "      <th>is_foreign</th>\n",
              "      <th>math_grade</th>\n",
              "    </tr>\n",
              "  </thead>\n",
              "  <tbody>\n",
              "    <tr>\n",
              "      <th>0</th>\n",
              "      <td>1.10</td>\n",
              "      <td>What is the role of a prototype program in pro...</td>\n",
              "      <td>To simulate the behaviour of portions of the d...</td>\n",
              "      <td>High risk problems are address in the prototyp...</td>\n",
              "      <td>4.0</td>\n",
              "      <td>3.00</td>\n",
              "      <td>3.500</td>\n",
              "      <td>0</td>\n",
              "      <td>0</td>\n",
              "      <td>88</td>\n",
              "    </tr>\n",
              "    <tr>\n",
              "      <th>1</th>\n",
              "      <td>1.10</td>\n",
              "      <td>What is the role of a prototype program in pro...</td>\n",
              "      <td>To simulate the behaviour of portions of the d...</td>\n",
              "      <td>To simulate portions of the dsirid fenal produ...</td>\n",
              "      <td>5.0</td>\n",
              "      <td>5.00</td>\n",
              "      <td>5.000</td>\n",
              "      <td>1</td>\n",
              "      <td>1</td>\n",
              "      <td>88</td>\n",
              "    </tr>\n",
              "    <tr>\n",
              "      <th>2</th>\n",
              "      <td>1.10</td>\n",
              "      <td>What is the role of a prototype program in pro...</td>\n",
              "      <td>To simulate the behaviour of portions of the d...</td>\n",
              "      <td>A prototype program simulates the behaviors of...</td>\n",
              "      <td>5.0</td>\n",
              "      <td>3.00</td>\n",
              "      <td>4.000</td>\n",
              "      <td>2</td>\n",
              "      <td>0</td>\n",
              "      <td>82</td>\n",
              "    </tr>\n",
              "    <tr>\n",
              "      <th>3</th>\n",
              "      <td>1.10</td>\n",
              "      <td>What is the role of a prototype program in pro...</td>\n",
              "      <td>To simulate the behaviour of portions of the d...</td>\n",
              "      <td>Defined in the Specification phase a prototype...</td>\n",
              "      <td>5.0</td>\n",
              "      <td>5.00</td>\n",
              "      <td>5.000</td>\n",
              "      <td>3</td>\n",
              "      <td>0</td>\n",
              "      <td>71</td>\n",
              "    </tr>\n",
              "    <tr>\n",
              "      <th>4</th>\n",
              "      <td>1.10</td>\n",
              "      <td>What is the role of a prototype program in pro...</td>\n",
              "      <td>To simulate the behaviour of portions of the d...</td>\n",
              "      <td>It is used to let the users have a first idea ...</td>\n",
              "      <td>3.0</td>\n",
              "      <td>3.00</td>\n",
              "      <td>3.000</td>\n",
              "      <td>4</td>\n",
              "      <td>0</td>\n",
              "      <td>80</td>\n",
              "    </tr>\n",
              "    <tr>\n",
              "      <th>...</th>\n",
              "      <td>...</td>\n",
              "      <td>...</td>\n",
              "      <td>...</td>\n",
              "      <td>...</td>\n",
              "      <td>...</td>\n",
              "      <td>...</td>\n",
              "      <td>...</td>\n",
              "      <td>...</td>\n",
              "      <td>...</td>\n",
              "      <td>...</td>\n",
              "    </tr>\n",
              "    <tr>\n",
              "      <th>2268</th>\n",
              "      <td>12.11</td>\n",
              "      <td>How many steps does it take to search a node i...</td>\n",
              "      <td>The height of the tree.</td>\n",
              "      <td>log n</td>\n",
              "      <td>4.5</td>\n",
              "      <td>5.00</td>\n",
              "      <td>4.750</td>\n",
              "      <td>2268</td>\n",
              "      <td>0</td>\n",
              "      <td>81</td>\n",
              "    </tr>\n",
              "    <tr>\n",
              "      <th>2269</th>\n",
              "      <td>12.11</td>\n",
              "      <td>How many steps does it take to search a node i...</td>\n",
              "      <td>The height of the tree.</td>\n",
              "      <td>( n(n-1) ) / 2</td>\n",
              "      <td>0.0</td>\n",
              "      <td>3.00</td>\n",
              "      <td>1.500</td>\n",
              "      <td>2269</td>\n",
              "      <td>0</td>\n",
              "      <td>66</td>\n",
              "    </tr>\n",
              "    <tr>\n",
              "      <th>2270</th>\n",
              "      <td>12.11</td>\n",
              "      <td>How many steps does it take to search a node i...</td>\n",
              "      <td>The height of the tree.</td>\n",
              "      <td>2n-1</td>\n",
              "      <td>0.0</td>\n",
              "      <td>4.75</td>\n",
              "      <td>2.375</td>\n",
              "      <td>2270</td>\n",
              "      <td>0</td>\n",
              "      <td>80</td>\n",
              "    </tr>\n",
              "    <tr>\n",
              "      <th>2271</th>\n",
              "      <td>12.11</td>\n",
              "      <td>How many steps does it take to search a node i...</td>\n",
              "      <td>The height of the tree.</td>\n",
              "      <td>it takes at most h steps, wheri h is the heigh...</td>\n",
              "      <td>5.0</td>\n",
              "      <td>5.00</td>\n",
              "      <td>5.000</td>\n",
              "      <td>2271</td>\n",
              "      <td>1</td>\n",
              "      <td>93</td>\n",
              "    </tr>\n",
              "    <tr>\n",
              "      <th>2272</th>\n",
              "      <td>12.11</td>\n",
              "      <td>How many steps does it take to search a node i...</td>\n",
              "      <td>The height of the tree.</td>\n",
              "      <td>it depends on the install search tree then fro...</td>\n",
              "      <td>0.0</td>\n",
              "      <td>3.00</td>\n",
              "      <td>1.500</td>\n",
              "      <td>2272</td>\n",
              "      <td>0</td>\n",
              "      <td>90</td>\n",
              "    </tr>\n",
              "  </tbody>\n",
              "</table>\n",
              "<p>2273 rows × 10 columns</p>\n",
              "</div>\n",
              "      <button class=\"colab-df-convert\" onclick=\"convertToInteractive('df-38c7f0fa-bc79-4e3a-ba62-422b32272a5c')\"\n",
              "              title=\"Convert this dataframe to an interactive table.\"\n",
              "              style=\"display:none;\">\n",
              "        \n",
              "  <svg xmlns=\"http://www.w3.org/2000/svg\" height=\"24px\"viewBox=\"0 0 24 24\"\n",
              "       width=\"24px\">\n",
              "    <path d=\"M0 0h24v24H0V0z\" fill=\"none\"/>\n",
              "    <path d=\"M18.56 5.44l.94 2.06.94-2.06 2.06-.94-2.06-.94-.94-2.06-.94 2.06-2.06.94zm-11 1L8.5 8.5l.94-2.06 2.06-.94-2.06-.94L8.5 2.5l-.94 2.06-2.06.94zm10 10l.94 2.06.94-2.06 2.06-.94-2.06-.94-.94-2.06-.94 2.06-2.06.94z\"/><path d=\"M17.41 7.96l-1.37-1.37c-.4-.4-.92-.59-1.43-.59-.52 0-1.04.2-1.43.59L10.3 9.45l-7.72 7.72c-.78.78-.78 2.05 0 2.83L4 21.41c.39.39.9.59 1.41.59.51 0 1.02-.2 1.41-.59l7.78-7.78 2.81-2.81c.8-.78.8-2.07 0-2.86zM5.41 20L4 18.59l7.72-7.72 1.47 1.35L5.41 20z\"/>\n",
              "  </svg>\n",
              "      </button>\n",
              "      \n",
              "  <style>\n",
              "    .colab-df-container {\n",
              "      display:flex;\n",
              "      flex-wrap:wrap;\n",
              "      gap: 12px;\n",
              "    }\n",
              "\n",
              "    .colab-df-convert {\n",
              "      background-color: #E8F0FE;\n",
              "      border: none;\n",
              "      border-radius: 50%;\n",
              "      cursor: pointer;\n",
              "      display: none;\n",
              "      fill: #1967D2;\n",
              "      height: 32px;\n",
              "      padding: 0 0 0 0;\n",
              "      width: 32px;\n",
              "    }\n",
              "\n",
              "    .colab-df-convert:hover {\n",
              "      background-color: #E2EBFA;\n",
              "      box-shadow: 0px 1px 2px rgba(60, 64, 67, 0.3), 0px 1px 3px 1px rgba(60, 64, 67, 0.15);\n",
              "      fill: #174EA6;\n",
              "    }\n",
              "\n",
              "    [theme=dark] .colab-df-convert {\n",
              "      background-color: #3B4455;\n",
              "      fill: #D2E3FC;\n",
              "    }\n",
              "\n",
              "    [theme=dark] .colab-df-convert:hover {\n",
              "      background-color: #434B5C;\n",
              "      box-shadow: 0px 1px 3px 1px rgba(0, 0, 0, 0.15);\n",
              "      filter: drop-shadow(0px 1px 2px rgba(0, 0, 0, 0.3));\n",
              "      fill: #FFFFFF;\n",
              "    }\n",
              "  </style>\n",
              "\n",
              "      <script>\n",
              "        const buttonEl =\n",
              "          document.querySelector('#df-38c7f0fa-bc79-4e3a-ba62-422b32272a5c button.colab-df-convert');\n",
              "        buttonEl.style.display =\n",
              "          google.colab.kernel.accessAllowed ? 'block' : 'none';\n",
              "\n",
              "        async function convertToInteractive(key) {\n",
              "          const element = document.querySelector('#df-38c7f0fa-bc79-4e3a-ba62-422b32272a5c');\n",
              "          const dataTable =\n",
              "            await google.colab.kernel.invokeFunction('convertToInteractive',\n",
              "                                                     [key], {});\n",
              "          if (!dataTable) return;\n",
              "\n",
              "          const docLinkHtml = 'Like what you see? Visit the ' +\n",
              "            '<a target=\"_blank\" href=https://colab.research.google.com/notebooks/data_table.ipynb>data table notebook</a>'\n",
              "            + ' to learn more about interactive tables.';\n",
              "          element.innerHTML = '';\n",
              "          dataTable['output_type'] = 'display_data';\n",
              "          await google.colab.output.renderOutput(dataTable, element);\n",
              "          const docLink = document.createElement('div');\n",
              "          docLink.innerHTML = docLinkHtml;\n",
              "          element.appendChild(docLink);\n",
              "        }\n",
              "      </script>\n",
              "    </div>\n",
              "  </div>\n",
              "  "
            ]
          },
          "metadata": {},
          "execution_count": 10
        }
      ]
    },
    {
      "cell_type": "code",
      "source": [
        "df.loc[foreigners, 'math_grade'].mean()"
      ],
      "metadata": {
        "colab": {
          "base_uri": "https://localhost:8080/"
        },
        "id": "d8O2Omh3l4qK",
        "outputId": "99619a01-a2cd-4396-b1b8-24aee1980607"
      },
      "execution_count": 11,
      "outputs": [
        {
          "output_type": "execute_result",
          "data": {
            "text/plain": [
              "90.03952569169961"
            ]
          },
          "metadata": {},
          "execution_count": 11
        }
      ]
    },
    {
      "cell_type": "code",
      "source": [
        "df.loc[natives, 'math_grade'].mean()"
      ],
      "metadata": {
        "colab": {
          "base_uri": "https://localhost:8080/"
        },
        "id": "KSiOfisLojGY",
        "outputId": "8343a23f-774a-4157-b81b-49b7c3a744b5"
      },
      "execution_count": 35,
      "outputs": [
        {
          "output_type": "execute_result",
          "data": {
            "text/plain": [
              "79.98614674191893"
            ]
          },
          "metadata": {},
          "execution_count": 35
        }
      ]
    },
    {
      "cell_type": "code",
      "source": [
        "df.to_csv(\"db_with_inserted_textual_mistakes_2.csv\")"
      ],
      "metadata": {
        "id": "u9doAlLXq925"
      },
      "execution_count": 14,
      "outputs": []
    },
    {
      "cell_type": "code",
      "source": [
        "sns.histplot(df.loc[natives, 'math_grade'])\n",
        "plt.title(\"Native students math grades\")\n",
        "plt.show()"
      ],
      "metadata": {
        "colab": {
          "base_uri": "https://localhost:8080/",
          "height": 472
        },
        "id": "_cM_5Sef2bht",
        "outputId": "9ffc8346-c61a-4b2b-ef49-ed432a0dae96"
      },
      "execution_count": 37,
      "outputs": [
        {
          "output_type": "display_data",
          "data": {
            "text/plain": [
              "<Figure size 640x480 with 1 Axes>"
            ],
            "image/png": "[encoded data removed]"
          },
          "metadata": {}
        }
      ]
    },
    {
      "cell_type": "code",
      "source": [
        "sns.histplot(df.loc[foreigners, 'math_grade'])\n",
        "plt.title(\"Foreign students math grades\")\n",
        "plt.show()"
      ],
      "metadata": {
        "colab": {
          "base_uri": "https://localhost:8080/",
          "height": 472
        },
        "id": "R2FwL8_13J4i",
        "outputId": "71946798-0cc7-4980-b4dd-246dd7de4979"
      },
      "execution_count": 38,
      "outputs": [
        {
          "output_type": "display_data",
          "data": {
            "text/plain": [
              "<Figure size 640x480 with 1 Axes>"
            ],
            "image/png": "[encoded data removed]"
          },
          "metadata": {}
        }
      ]
    },
    {
      "cell_type": "code",
      "source": [],
      "metadata": {
        "id": "Sx_ekrbd2bqw"
      },
      "execution_count": null,
      "outputs": []
    },
    {
      "cell_type": "code",
      "source": [
        "# f_dic = {}\n",
        "# for f in non_natives_ids:\n",
        "#   f_dic[f] = round(min(np.random.normal(90, 10), 100))\n",
        "\n",
        "# n_dic = {}\n",
        "# for n in df.where(natives)['id'].unique():\n",
        "#   n_dic[n] = round(min(np.random.normal(80, 10), 100))"
      ],
      "metadata": {
        "id": "FqQ39W0SXh2r"
      },
      "execution_count": null,
      "outputs": []
    }
  ]
}